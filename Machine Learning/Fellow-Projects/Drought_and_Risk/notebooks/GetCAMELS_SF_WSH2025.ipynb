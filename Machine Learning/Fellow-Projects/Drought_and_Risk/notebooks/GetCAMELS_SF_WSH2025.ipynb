{
 "cells": [
  {
   "cell_type": "code",
   "execution_count": 1,
   "id": "5053cc0c",
   "metadata": {},
   "outputs": [],
   "source": [
    "import pandas as pd\n",
    "import numpy as np\n",
    "import geopandas as gpd\n",
    "import pygeohydro as gh\n",
    "from pygeohydro import NWIS\n",
    "from pynhd import WaterData\n",
    "import os\n",
    "import shutil\n",
    "import glob"
   ]
  },
  {
   "cell_type": "code",
   "execution_count": 2,
   "id": "8880c44d",
   "metadata": {},
   "outputs": [],
   "source": [
    "# create gauge list from shapefile\n",
    "catchments = gpd.read_file(r'C:\\Users\\bakar\\Documents\\WaterSoftHack_2025\\GISData\\UCOLCatchments.shp')"
   ]
  },
  {
   "cell_type": "code",
   "execution_count": 10,
   "id": "86148639",
   "metadata": {},
   "outputs": [],
   "source": [
    "gauge_list = catchments['hru_id'].to_list()"
   ]
  },
  {
   "cell_type": "code",
   "execution_count": 8,
   "id": "cbec8172",
   "metadata": {},
   "outputs": [],
   "source": [
    "start = \"1980-01-01\"\n",
    "end = \"2024-12-31\"\n",
    "savepath = r\"C:\\Users\\bakar\\Documents\\WaterSoftHack_2025\\Data\\Streamflow\"\n",
    "nwis = NWIS()"
   ]
  },
  {
   "cell_type": "code",
   "execution_count": 12,
   "id": "cd1304fb",
   "metadata": {},
   "outputs": [],
   "source": [
    "for gauge_id in gauge_list:\n",
    "    gauge_id = str(gauge_id)\n",
    "    q_cms = nwis.get_streamflow(gauge_id, (start, end))\n",
    "    q_cms.to_csv(f'{savepath}/{gauge_id}.csv')"
   ]
  }
 ],
 "metadata": {
  "kernelspec": {
   "display_name": "Python 3",
   "language": "python",
   "name": "python3"
  },
  "language_info": {
   "codemirror_mode": {
    "name": "ipython",
    "version": 3
   },
   "file_extension": ".py",
   "mimetype": "text/x-python",
   "name": "python",
   "nbconvert_exporter": "python",
   "pygments_lexer": "ipython3",
   "version": "3.11.4"
  }
 },
 "nbformat": 4,
 "nbformat_minor": 5
}
