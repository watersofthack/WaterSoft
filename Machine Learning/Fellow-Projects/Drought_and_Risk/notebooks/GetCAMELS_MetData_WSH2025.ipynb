{
 "cells": [
  {
   "cell_type": "code",
   "execution_count": 1,
   "id": "518ff10b",
   "metadata": {},
   "outputs": [],
   "source": [
    "import geopandas as gpd\n",
    "import pydaymet as daymet\n",
    "from datetime import date, timedelta\n",
    "import os\n",
    "import requests\n",
    "import pandas as pd"
   ]
  },
  {
   "cell_type": "code",
   "execution_count": 2,
   "id": "b36ddca6",
   "metadata": {},
   "outputs": [],
   "source": [
    "shape_fp = r\"C:\\Users\\bakar\\Documents\\WaterSoftHack_2025\\GISData\\UCOLCatchments.shp\"\n",
    "output_dir = r\"C:\\Users\\bakar\\Documents\\WaterSoftHack_2025\\Data\\MetData\""
   ]
  },
  {
   "cell_type": "code",
   "execution_count": 3,
   "id": "2a8d86d7",
   "metadata": {},
   "outputs": [],
   "source": [
    "catchments = gpd.read_file(shape_fp)\n",
    "catchments = catchments.to_crs(\"EPSG:4326\")"
   ]
  },
  {
   "cell_type": "code",
   "execution_count": 4,
   "id": "a147294f",
   "metadata": {},
   "outputs": [],
   "source": [
    "var = [\"tmax\",\"prcp\"]\n",
    "# Define the start date and current date\n",
    "start_date = date(1980, 1, 1)\n",
    "end_date = date(2024,12,31)"
   ]
  },
  {
   "cell_type": "code",
   "execution_count": 5,
   "id": "72f92d05",
   "metadata": {},
   "outputs": [
    {
     "name": "stdout",
     "output_type": "stream",
     "text": [
      "Data retrieved for catchment 6221400 from 1980-01-01 to 2024-12-31\n",
      "Data retrieved for catchment 6224000 from 1980-01-01 to 2024-12-31\n",
      "Data retrieved for catchment 6614800 from 1980-01-01 to 2024-12-31\n",
      "Data retrieved for catchment 6623800 from 1980-01-01 to 2024-12-31\n",
      "Data retrieved for catchment 7083000 from 1980-01-01 to 2024-12-31\n",
      "Data retrieved for catchment 9034900 from 1980-01-01 to 2024-12-31\n",
      "Data retrieved for catchment 9035800 from 1980-01-01 to 2024-12-31\n",
      "Data retrieved for catchment 9035900 from 1980-01-01 to 2024-12-31\n",
      "Data retrieved for catchment 9047700 from 1980-01-01 to 2024-12-31\n",
      "Data retrieved for catchment 9065500 from 1980-01-01 to 2024-12-31\n",
      "Data retrieved for catchment 9066000 from 1980-01-01 to 2024-12-31\n",
      "Data retrieved for catchment 9066200 from 1980-01-01 to 2024-12-31\n",
      "Data retrieved for catchment 9066300 from 1980-01-01 to 2024-12-31\n",
      "Data retrieved for catchment 9081600 from 1980-01-01 to 2024-12-31\n",
      "Data retrieved for catchment 9107000 from 1980-01-01 to 2024-12-31\n",
      "Data retrieved for catchment 9210500 from 1980-01-01 to 2024-12-31\n",
      "Data retrieved for catchment 9223000 from 1980-01-01 to 2024-12-31\n",
      "Data retrieved for catchment 9306242 from 1980-01-01 to 2024-12-31\n",
      "Data retrieved for catchment 9312600 from 1980-01-01 to 2024-12-31\n",
      "Data retrieved for catchment 9352900 from 1980-01-01 to 2024-12-31\n",
      "Data retrieved for catchment 9378170 from 1980-01-01 to 2024-12-31\n",
      "Data retrieved for catchment 9378630 from 1980-01-01 to 2024-12-31\n",
      "Data retrieved for catchment 10205030 from 1980-01-01 to 2024-12-31\n",
      "Data retrieved for catchment 13023000 from 1980-01-01 to 2024-12-31\n"
     ]
    }
   ],
   "source": [
    "for index, catchment in catchments.iterrows():\n",
    "    coords = (catchment['lon_cen'], catchment['lat_cen'])\n",
    "    dates = (start_date.strftime(\"%Y-%m-%d\"), end_date.strftime(\"%Y-%m-%d\"))\n",
    "\n",
    "    success = False\n",
    "    attempts = 0\n",
    "    while not success and attempts < 5:\n",
    "        try:\n",
    "            data = daymet.get_bycoords(coords, dates, variables=var)\n",
    "            success = True\n",
    "        except Exception as e:\n",
    "            print(f\"Attempt {attempts + 1} failed for catchment {catchment['hru_id']}: {e}\")\n",
    "            attempts += 1\n",
    "            if attempts >= 5:\n",
    "                print(f\"Failed to retrieve data for catchment {catchment['hru_id']} after {attempts} attempts.\")\n",
    "    \n",
    "    if success:\n",
    "        print(f\"Data retrieved for catchment {catchment['hru_id']} from {dates[0]} to {dates[1]}\")\n",
    "        output_filename = os.path.join(output_dir, f\"daymet_{catchment['hru_id']}.csv\")\n",
    "        data.to_csv(output_filename)"
   ]
  }
 ],
 "metadata": {
  "kernelspec": {
   "display_name": "Python 3",
   "language": "python",
   "name": "python3"
  },
  "language_info": {
   "codemirror_mode": {
    "name": "ipython",
    "version": 3
   },
   "file_extension": ".py",
   "mimetype": "text/x-python",
   "name": "python",
   "nbconvert_exporter": "python",
   "pygments_lexer": "ipython3",
   "version": "3.11.4"
  }
 },
 "nbformat": 4,
 "nbformat_minor": 5
}
