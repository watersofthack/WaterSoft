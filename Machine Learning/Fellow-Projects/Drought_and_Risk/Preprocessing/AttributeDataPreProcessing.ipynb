{
 "cells": [
  {
   "cell_type": "code",
   "execution_count": 2,
   "id": "fe8aa9e6",
   "metadata": {},
   "outputs": [],
   "source": [
    "import pandas as pd\n",
    "import numpy as np\n",
    "import os\n",
    "import geopandas as gpd"
   ]
  },
  {
   "cell_type": "code",
   "execution_count": 3,
   "id": "472b6330",
   "metadata": {},
   "outputs": [],
   "source": [
    "attributes_dir = r\"D:\\SFD_Prediction\\Data\\CAMELS\"  # Directory containing CAMELS attribute files\n",
    "excel_file = r\"D:\\SFD_Prediction\\Data\\CAMELS\\camels_attributes_v2.0.xlsx\" # Excel file with attribute descriptions\n",
    "ucol_catchments = r\"C:\\Users\\bakar\\Documents\\WaterSoftHack_2025\\GISData\\UCOLCatchments.shp\""
   ]
  },
  {
   "cell_type": "code",
   "execution_count": 6,
   "id": "39b9aa5a",
   "metadata": {},
   "outputs": [],
   "source": [
    "catchments = gpd.read_file(ucol_catchments)"
   ]
  },
  {
   "cell_type": "code",
   "execution_count": 4,
   "id": "3908e236",
   "metadata": {},
   "outputs": [],
   "source": [
    "# Function to read and merge attribute files\n",
    "def load_attributes(attributes_dir):\n",
    "    files = [f for f in os.listdir(attributes_dir) if f.endswith('.txt')]\n",
    "    attributes = pd.DataFrame()\n",
    "    \n",
    "    for file in files:\n",
    "        temp_df = pd.read_csv(os.path.join(attributes_dir, file), sep=';', index_col=0)\n",
    "        attributes = pd.concat([attributes, temp_df], axis=1)\n",
    "    \n",
    "    return attributes\n",
    "\n",
    "# Load attributes\n",
    "attributes = load_attributes(attributes_dir)\n",
    "\n",
    "# Remove rows that are entirely NaN\n",
    "attributes_cleaned = attributes.dropna(how='all')"
   ]
  },
  {
   "cell_type": "code",
   "execution_count": 8,
   "id": "ebbc91fa",
   "metadata": {},
   "outputs": [],
   "source": [
    "attributes_df = attributes_cleaned.rename_axis(\"hru_id\").reset_index()"
   ]
  },
  {
   "cell_type": "code",
   "execution_count": 10,
   "id": "9517668a",
   "metadata": {},
   "outputs": [],
   "source": [
    "# Step 3: Subset df based on overlapping hru_id values\n",
    "hru_ids = catchments[\"hru_id\"].astype(int)  # ensure type consistency\n",
    "attributes_subset = attributes_df[attributes_df[\"hru_id\"].isin(hru_ids)]"
   ]
  },
  {
   "cell_type": "code",
   "execution_count": 12,
   "id": "ec98a26c",
   "metadata": {},
   "outputs": [],
   "source": [
    "attributes_subset.to_csv(r\"C:\\Users\\bakar\\Documents\\WaterSoftHack_2025\\Data\\attributes_subset.csv\", index=False)"
   ]
  }
 ],
 "metadata": {
  "kernelspec": {
   "display_name": "Python 3",
   "language": "python",
   "name": "python3"
  },
  "language_info": {
   "codemirror_mode": {
    "name": "ipython",
    "version": 3
   },
   "file_extension": ".py",
   "mimetype": "text/x-python",
   "name": "python",
   "nbconvert_exporter": "python",
   "pygments_lexer": "ipython3",
   "version": "3.11.4"
  }
 },
 "nbformat": 4,
 "nbformat_minor": 5
}
