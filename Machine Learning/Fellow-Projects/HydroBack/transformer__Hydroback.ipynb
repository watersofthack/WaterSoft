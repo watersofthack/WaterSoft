{
 "cells": [
  {
   "cell_type": "code",
   "execution_count": 5,
   "id": "fb40b888-beca-460c-a742-971c61e1d3e3",
   "metadata": {},
   "outputs": [],
   "source": [
    "import torch\n",
    "import numpy as np\n",
    "import math\n",
    "\n",
    "import pandas as pd\n",
    "from sklearn.preprocessing import MinMaxScaler"
   ]
  },
  {
   "cell_type": "code",
   "execution_count": 3,
   "id": "ff942e79-fe93-402d-8bee-259a12539b3d",
   "metadata": {},
   "outputs": [
    {
     "name": "stdout",
     "output_type": "stream",
     "text": [
      "Collecting torch\n",
      "  Using cached torch-2.8.0-cp311-cp311-manylinux_2_28_x86_64.whl.metadata (30 kB)\n",
      "Requirement already satisfied: filelock in /opt/conda/lib/python3.11/site-packages (from torch) (3.18.0)\n",
      "Requirement already satisfied: typing-extensions>=4.10.0 in /opt/conda/lib/python3.11/site-packages (from torch) (4.11.0)\n",
      "Requirement already satisfied: sympy>=1.13.3 in /opt/conda/lib/python3.11/site-packages (from torch) (1.14.0)\n",
      "Requirement already satisfied: networkx in /opt/conda/lib/python3.11/site-packages (from torch) (3.3)\n",
      "Requirement already satisfied: jinja2 in /opt/conda/lib/python3.11/site-packages (from torch) (3.1.3)\n",
      "Requirement already satisfied: fsspec in /opt/conda/lib/python3.11/site-packages (from torch) (2024.3.1)\n",
      "Requirement already satisfied: nvidia-cuda-nvrtc-cu12==12.8.93 in /opt/conda/lib/python3.11/site-packages (from torch) (12.8.93)\n",
      "Requirement already satisfied: nvidia-cuda-runtime-cu12==12.8.90 in /opt/conda/lib/python3.11/site-packages (from torch) (12.8.90)\n",
      "Requirement already satisfied: nvidia-cuda-cupti-cu12==12.8.90 in /opt/conda/lib/python3.11/site-packages (from torch) (12.8.90)\n",
      "Requirement already satisfied: nvidia-cudnn-cu12==9.10.2.21 in /opt/conda/lib/python3.11/site-packages (from torch) (9.10.2.21)\n",
      "Requirement already satisfied: nvidia-cublas-cu12==12.8.4.1 in /opt/conda/lib/python3.11/site-packages (from torch) (12.8.4.1)\n",
      "Requirement already satisfied: nvidia-cufft-cu12==11.3.3.83 in /opt/conda/lib/python3.11/site-packages (from torch) (11.3.3.83)\n",
      "Requirement already satisfied: nvidia-curand-cu12==10.3.9.90 in /opt/conda/lib/python3.11/site-packages (from torch) (10.3.9.90)\n",
      "Requirement already satisfied: nvidia-cusolver-cu12==11.7.3.90 in /opt/conda/lib/python3.11/site-packages (from torch) (11.7.3.90)\n",
      "Requirement already satisfied: nvidia-cusparse-cu12==12.5.8.93 in /opt/conda/lib/python3.11/site-packages (from torch) (12.5.8.93)\n",
      "Requirement already satisfied: nvidia-cusparselt-cu12==0.7.1 in /opt/conda/lib/python3.11/site-packages (from torch) (0.7.1)\n",
      "Requirement already satisfied: nvidia-nccl-cu12==2.27.3 in /opt/conda/lib/python3.11/site-packages (from torch) (2.27.3)\n",
      "Requirement already satisfied: nvidia-nvtx-cu12==12.8.90 in /opt/conda/lib/python3.11/site-packages (from torch) (12.8.90)\n",
      "Requirement already satisfied: nvidia-nvjitlink-cu12==12.8.93 in /opt/conda/lib/python3.11/site-packages (from torch) (12.8.93)\n",
      "Requirement already satisfied: nvidia-cufile-cu12==1.13.1.3 in /opt/conda/lib/python3.11/site-packages (from torch) (1.13.1.3)\n",
      "Requirement already satisfied: triton==3.4.0 in /opt/conda/lib/python3.11/site-packages (from torch) (3.4.0)\n",
      "Requirement already satisfied: setuptools>=40.8.0 in /opt/conda/lib/python3.11/site-packages (from triton==3.4.0->torch) (69.5.1)\n",
      "Requirement already satisfied: mpmath<1.4,>=1.1.0 in /opt/conda/lib/python3.11/site-packages (from sympy>=1.13.3->torch) (1.3.0)\n",
      "Requirement already satisfied: MarkupSafe>=2.0 in /opt/conda/lib/python3.11/site-packages (from jinja2->torch) (2.1.5)\n",
      "Using cached torch-2.8.0-cp311-cp311-manylinux_2_28_x86_64.whl (888.1 MB)\n",
      "Installing collected packages: torch\n",
      "Successfully installed torch-2.8.0\n"
     ]
    }
   ],
   "source": [
    "!pip install torch"
   ]
  },
  {
   "cell_type": "code",
   "execution_count": 4,
   "id": "129394d2-6c26-4c7f-b00a-2cfd311015f4",
   "metadata": {},
   "outputs": [],
   "source": [
    "path = '../full_dataset.csv'"
   ]
  },
  {
   "cell_type": "code",
   "execution_count": 6,
   "id": "83c89cc8-0fd0-4b75-b68f-48b3886d25a3",
   "metadata": {},
   "outputs": [
    {
     "name": "stdout",
     "output_type": "stream",
     "text": [
      "Using device: cuda\n"
     ]
    }
   ],
   "source": [
    "device = torch.device('cuda' if torch.cuda.is_available() else 'cpu')\n",
    "print(f'Using device: {device}')\n",
    "\n",
    "# Implement determinism. Set a fixed value for random seed so that when the parameters are initialized, they are initialized same across all experiments.\n",
    "torch.manual_seed(42)\n",
    "\n",
    "# If you are using CUDA, also set the seed for it\n",
    "if torch.cuda.is_available():\n",
    "    torch.cuda.manual_seed(42)\n",
    "    torch.cuda.manual_seed_all(42)\n",
    "\n",
    "# Set the seed for NumPy\n",
    "np.random.seed(42)"
   ]
  },
  {
   "cell_type": "code",
   "execution_count": 7,
   "id": "bf9ab136-5748-4078-b57c-60b4c2b2285a",
   "metadata": {},
   "outputs": [],
   "source": [
    "class RiverData(torch.utils.data.Dataset):\n",
    "    \n",
    "    def __init__(self, df, target, datecol, seq_len, pred_len):\n",
    "        self.df = df\n",
    "        self.datecol = datecol\n",
    "        self.target = target\n",
    "        self.seq_len = seq_len\n",
    "        self.pred_len = pred_len\n",
    "        self.setIndex()\n",
    "        \n",
    "\n",
    "    def setIndex(self):\n",
    "        self.df.set_index(self.datecol, inplace=True)\n",
    "    \n",
    "\n",
    "    def __len__(self):\n",
    "        return len(self.df) - self.seq_len - self.pred_len\n",
    "\n",
    "\n",
    "    def __getitem__(self, idx):\n",
    "        if len(self.df) <= (idx + self.seq_len+self.pred_len):\n",
    "            raise IndexError(f\"Index {idx} is out of bounds for dataset of size {len(self.df)}\")\n",
    "        df_piece = self.df[idx:idx+self.seq_len].values\n",
    "        feature = torch.tensor(df_piece, dtype=torch.float32)\n",
    "        label_piece = self.df[self.target][idx + self.seq_len:  idx+self.seq_len+self.pred_len].values\n",
    "        label = torch.tensor(label_piece, dtype=torch.float32)\n",
    "        return (feature, label) "
   ]
  },
  {
   "cell_type": "code",
   "execution_count": 8,
   "id": "4a23dd73-6aae-401e-9896-163f38384eb7",
   "metadata": {},
   "outputs": [],
   "source": [
    "from sklearn.preprocessing import StandardScaler\n"
   ]
  },
  {
   "cell_type": "code",
   "execution_count": 9,
   "id": "039f8677-a895-471f-9c6d-b4cca8be91b5",
   "metadata": {},
   "outputs": [],
   "source": [
    "import pandas as pd\n",
    "from sklearn.preprocessing import MinMaxScaler\n",
    "\n",
    "# Read CSV\n",
    "df = pd.read_csv('full_dataset.csv')\n",
    "\n",
    "# Ensure DATE is datetime\n",
    "df['DATE'] = pd.to_datetime(df['DATE'])\n",
    "\n",
    "# Columns to scale (excluding 'DATE' and 'precipitation')\n",
    "exclude_columns = ['DATE', 'precip_accum_one_hour']\n",
    "columns_to_scale = [col for col in df.columns if col not in exclude_columns]\n",
    "\n",
    "# Scale selected columns with MinMaxScaler\n",
    "scaler = MinMaxScaler()\n",
    "scaled_data = scaler.fit_transform(df[columns_to_scale])\n",
    "df_scaled = pd.DataFrame(scaled_data, columns=columns_to_scale)\n",
    "\n",
    "# Scale 'precipitation' using 7-day moving average\n",
    "df_scaled['precip_accum_one_hour'] = df['precip_accum_one_hour'].rolling(window=7, min_periods=1).mean()\n",
    "\n",
    "# Add DATE back without scaling\n",
    "df_scaled['DATE'] = df['DATE']\n",
    "\n",
    "# Optional: reorder to match original column order\n",
    "df_scaled = df_scaled[df.columns]\n",
    "\n",
    "# Assign back if needed\n",
    "df = df_scaled\n"
   ]
  },
  {
   "cell_type": "code",
   "execution_count": 10,
   "id": "8324bb48-11f1-4ff6-8026-b084af9a32e2",
   "metadata": {},
   "outputs": [
    {
     "data": {
      "text/html": [
       "<div>\n",
       "<style scoped>\n",
       "    .dataframe tbody tr th:only-of-type {\n",
       "        vertical-align: middle;\n",
       "    }\n",
       "\n",
       "    .dataframe tbody tr th {\n",
       "        vertical-align: top;\n",
       "    }\n",
       "\n",
       "    .dataframe thead th {\n",
       "        text-align: right;\n",
       "    }\n",
       "</style>\n",
       "<table border=\"1\" class=\"dataframe\">\n",
       "  <thead>\n",
       "    <tr style=\"text-align: right;\">\n",
       "      <th></th>\n",
       "      <th>DATE</th>\n",
       "      <th>streamflow_cfs</th>\n",
       "      <th>precip_accum_one_hour</th>\n",
       "      <th>temperature</th>\n",
       "      <th>MOD10A1_061_NDSI_Snow_Cover</th>\n",
       "      <th>SPL3SMP_E_006_Soil_Moisture_Retrieval_Data_AM_soil_moisture</th>\n",
       "      <th>SPL3SMP_E_006_Soil_Moisture_Retrieval_Data_PM_soil_moisture_pm</th>\n",
       "      <th>VNP15A2H_002_Lai</th>\n",
       "      <th>drainage_area_km2</th>\n",
       "      <th>avg_elev_m</th>\n",
       "      <th>forest_cover_percent</th>\n",
       "      <th>avg_slope_percent</th>\n",
       "      <th>main_channel_length_km</th>\n",
       "      <th>main_channel_slope_m_km</th>\n",
       "      <th>mean_precip</th>\n",
       "    </tr>\n",
       "  </thead>\n",
       "  <tbody>\n",
       "    <tr>\n",
       "      <th>0</th>\n",
       "      <td>2015-10-01 04:00:00</td>\n",
       "      <td>0.011799</td>\n",
       "      <td>0.0</td>\n",
       "      <td>0.673707</td>\n",
       "      <td>1.0</td>\n",
       "      <td>1.000000</td>\n",
       "      <td>1.000000</td>\n",
       "      <td>0.420290</td>\n",
       "      <td>0.207572</td>\n",
       "      <td>1.0</td>\n",
       "      <td>1.000000</td>\n",
       "      <td>1.000000</td>\n",
       "      <td>0.837576</td>\n",
       "      <td>1.0</td>\n",
       "      <td>1.000000</td>\n",
       "    </tr>\n",
       "    <tr>\n",
       "      <th>1</th>\n",
       "      <td>2015-10-01 04:00:00</td>\n",
       "      <td>0.001353</td>\n",
       "      <td>0.0</td>\n",
       "      <td>0.552737</td>\n",
       "      <td>1.0</td>\n",
       "      <td>0.441195</td>\n",
       "      <td>0.312292</td>\n",
       "      <td>0.086957</td>\n",
       "      <td>0.058269</td>\n",
       "      <td>0.0</td>\n",
       "      <td>0.376796</td>\n",
       "      <td>0.114379</td>\n",
       "      <td>0.164848</td>\n",
       "      <td>0.0</td>\n",
       "      <td>0.236986</td>\n",
       "    </tr>\n",
       "    <tr>\n",
       "      <th>2</th>\n",
       "      <td>2015-10-01 04:15:00</td>\n",
       "      <td>0.001353</td>\n",
       "      <td>0.0</td>\n",
       "      <td>0.550112</td>\n",
       "      <td>1.0</td>\n",
       "      <td>0.441195</td>\n",
       "      <td>0.312292</td>\n",
       "      <td>0.086957</td>\n",
       "      <td>0.058269</td>\n",
       "      <td>0.0</td>\n",
       "      <td>0.376796</td>\n",
       "      <td>0.114379</td>\n",
       "      <td>0.164848</td>\n",
       "      <td>0.0</td>\n",
       "      <td>0.236986</td>\n",
       "    </tr>\n",
       "    <tr>\n",
       "      <th>3</th>\n",
       "      <td>2015-10-01 04:15:00</td>\n",
       "      <td>0.011799</td>\n",
       "      <td>0.0</td>\n",
       "      <td>0.673707</td>\n",
       "      <td>1.0</td>\n",
       "      <td>1.000000</td>\n",
       "      <td>1.000000</td>\n",
       "      <td>0.420290</td>\n",
       "      <td>0.207572</td>\n",
       "      <td>1.0</td>\n",
       "      <td>1.000000</td>\n",
       "      <td>1.000000</td>\n",
       "      <td>0.837576</td>\n",
       "      <td>1.0</td>\n",
       "      <td>1.000000</td>\n",
       "    </tr>\n",
       "    <tr>\n",
       "      <th>4</th>\n",
       "      <td>2015-10-01 04:30:00</td>\n",
       "      <td>0.001353</td>\n",
       "      <td>0.0</td>\n",
       "      <td>0.548488</td>\n",
       "      <td>1.0</td>\n",
       "      <td>0.441195</td>\n",
       "      <td>0.312292</td>\n",
       "      <td>0.086957</td>\n",
       "      <td>0.058269</td>\n",
       "      <td>0.0</td>\n",
       "      <td>0.376796</td>\n",
       "      <td>0.114379</td>\n",
       "      <td>0.164848</td>\n",
       "      <td>0.0</td>\n",
       "      <td>0.236986</td>\n",
       "    </tr>\n",
       "  </tbody>\n",
       "</table>\n",
       "</div>"
      ],
      "text/plain": [
       "                 DATE  streamflow_cfs  precip_accum_one_hour  temperature  \\\n",
       "0 2015-10-01 04:00:00        0.011799                    0.0     0.673707   \n",
       "1 2015-10-01 04:00:00        0.001353                    0.0     0.552737   \n",
       "2 2015-10-01 04:15:00        0.001353                    0.0     0.550112   \n",
       "3 2015-10-01 04:15:00        0.011799                    0.0     0.673707   \n",
       "4 2015-10-01 04:30:00        0.001353                    0.0     0.548488   \n",
       "\n",
       "   MOD10A1_061_NDSI_Snow_Cover  \\\n",
       "0                          1.0   \n",
       "1                          1.0   \n",
       "2                          1.0   \n",
       "3                          1.0   \n",
       "4                          1.0   \n",
       "\n",
       "   SPL3SMP_E_006_Soil_Moisture_Retrieval_Data_AM_soil_moisture  \\\n",
       "0                                           1.000000             \n",
       "1                                           0.441195             \n",
       "2                                           0.441195             \n",
       "3                                           1.000000             \n",
       "4                                           0.441195             \n",
       "\n",
       "   SPL3SMP_E_006_Soil_Moisture_Retrieval_Data_PM_soil_moisture_pm  \\\n",
       "0                                           1.000000                \n",
       "1                                           0.312292                \n",
       "2                                           0.312292                \n",
       "3                                           1.000000                \n",
       "4                                           0.312292                \n",
       "\n",
       "   VNP15A2H_002_Lai  drainage_area_km2  avg_elev_m  forest_cover_percent  \\\n",
       "0          0.420290           0.207572         1.0              1.000000   \n",
       "1          0.086957           0.058269         0.0              0.376796   \n",
       "2          0.086957           0.058269         0.0              0.376796   \n",
       "3          0.420290           0.207572         1.0              1.000000   \n",
       "4          0.086957           0.058269         0.0              0.376796   \n",
       "\n",
       "   avg_slope_percent  main_channel_length_km  main_channel_slope_m_km  \\\n",
       "0           1.000000                0.837576                      1.0   \n",
       "1           0.114379                0.164848                      0.0   \n",
       "2           0.114379                0.164848                      0.0   \n",
       "3           1.000000                0.837576                      1.0   \n",
       "4           0.114379                0.164848                      0.0   \n",
       "\n",
       "   mean_precip  \n",
       "0     1.000000  \n",
       "1     0.236986  \n",
       "2     0.236986  \n",
       "3     1.000000  \n",
       "4     0.236986  "
      ]
     },
     "execution_count": 10,
     "metadata": {},
     "output_type": "execute_result"
    }
   ],
   "source": [
    "df.head()\n"
   ]
  },
  {
   "cell_type": "code",
   "execution_count": 11,
   "id": "b45b8605-28a9-4db6-877a-0fed2a3f4919",
   "metadata": {},
   "outputs": [],
   "source": [
    "train_size = int(0.7 * len(df))\n",
    "test_size = int(0.2 * len(df))\n",
    "val_size = len(df) - train_size - test_size\n",
    "\n",
    "seq_len = 24\n",
    "pred_len = 1\n",
    "num_features = 14\n",
    "num_layers = 1\n",
    "\n",
    "\n",
    "common_args = ['precip_accum_one_hour', 'DATE', seq_len, pred_len]\n",
    "train_dataset = RiverData(df[:train_size], *common_args)\n",
    "val_dataset = RiverData(df[train_size: train_size+val_size], *common_args)\n",
    "test_dataset = RiverData(df[train_size+val_size : len(df)], *common_args)"
   ]
  },
  {
   "cell_type": "code",
   "execution_count": 12,
   "id": "0d62c671-9e96-4fa6-a8b2-2f3aac7032cb",
   "metadata": {},
   "outputs": [],
   "source": [
    "# Important parameters\n",
    "\n",
    "BATCH_SIZE = 128 # keep as big as can be handled by GPU and memory\n",
    "SHUFFLE = False # we don't shuffle the time series data\n",
    "DATA_LOAD_WORKERS = 1 # it depends on amount of data you need to load\n",
    "learning_rate = 1e-3"
   ]
  },
  {
   "cell_type": "code",
   "execution_count": 13,
   "id": "dfec95c2-708a-4791-a3d2-9df76d001a03",
   "metadata": {},
   "outputs": [],
   "source": [
    "from torch.utils.data import DataLoader\n",
    "\n",
    "common_args = {'batch_size': BATCH_SIZE, 'shuffle': SHUFFLE}\n",
    "train_loader = DataLoader(train_dataset, **common_args)\n",
    "val_loader = DataLoader(val_dataset, **common_args)\n",
    "test_loader = DataLoader(test_dataset, **common_args)"
   ]
  },
  {
   "cell_type": "code",
   "execution_count": 14,
   "id": "9e47d60c-914b-43f6-b1d2-ee1e6766178a",
   "metadata": {},
   "outputs": [],
   "source": [
    "class PositionalEncoding(torch.nn.Module):\n",
    "    def __init__(self, d_model, pos_enc_dropout, max_len=5000):\n",
    "        super().__init__();\n",
    "        self.dropout = torch.nn.Dropout(p=pos_enc_dropout)\n",
    "\n",
    "        Xp = torch.zeros(max_len, d_model) # max_len x d_model\n",
    "        position = torch.arange(0, max_len).unsqueeze(1) # max_len x 1\n",
    "\n",
    "        # Generates an exponentially decreasing series of numbers\n",
    "        div_term = torch.exp(torch.arange(0, d_model, 2) * (-math.log(10000.0) / d_model)) #length: d_model/2\n",
    "\n",
    "        #Applying sine to even indices in the array; 2i\n",
    "        Xp[:, 0::2] = torch.sin(position.float() * div_term)\n",
    "\n",
    "        #Applying cosine to odd indices in the array; 2i + 1\n",
    "        Xp[:, 1::2] = torch.cos(position.float() * div_term)\n",
    "\n",
    "        Xp = Xp.unsqueeze(1)\n",
    "        self.register_buffer('Xp', Xp)\n",
    "\n",
    "    def forward(self, x):\n",
    "        x  = x + self.Xp[:x.size(0)]\n",
    "        return self.dropout(x)"
   ]
  },
  {
   "cell_type": "code",
   "execution_count": 15,
   "id": "8f518f18-d6f3-4b1c-b434-5f4091c37153",
   "metadata": {},
   "outputs": [
    {
     "data": {
      "image/png": "[encoded data removed]",
      "text/plain": [
       "<Figure size 800x600 with 2 Axes>"
      ]
     },
     "metadata": {},
     "output_type": "display_data"
    },
    {
     "data": {
      "image/png": "[encoded data removed]",
      "text/plain": [
       "<Figure size 640x480 with 2 Axes>"
      ]
     },
     "metadata": {},
     "output_type": "display_data"
    },
    {
     "name": "stdout",
     "output_type": "stream",
     "text": [
      "Positional encoding applied for our 3 timesteps\n"
     ]
    },
    {
     "data": {
      "image/png": "[encoded data removed]",
      "text/plain": [
       "<Figure size 640x480 with 2 Axes>"
      ]
     },
     "metadata": {},
     "output_type": "display_data"
    }
   ],
   "source": [
    "import matplotlib.pyplot as plt\n",
    "import seaborn as sns\n",
    "from matplotlib.colors import SymLogNorm\n",
    "\n",
    "plt.figure(figsize=(8, 6))\n",
    "\n",
    "xp = torch.zeros(10, 8)\n",
    "maxlen = 10\n",
    "position = torch.arange(0, 10).unsqueeze(1)\n",
    "# print('position', position)\n",
    "div_term = torch.exp(torch.arange(0, 8, 2)*(-math.log(9.0/8)))\n",
    "# print('div_term', div_term)\n",
    "xp[:, 0::2] = torch.sin(position.float() * div_term)\n",
    "#evens\n",
    "# print(xp)\n",
    "# Generate the heatmap using seaborn\n",
    "sns.heatmap(xp, cmap='viridis', annot=False)\n",
    "\n",
    "# Display the plot\n",
    "plt.show()\n",
    "#odds\n",
    "xp[:, 1::2] = torch.cos(position.float() * div_term)\n",
    "\n",
    "sns.heatmap(xp, cmap='viridis', annot=False)\n",
    "\n",
    "# Display the plot\n",
    "plt.show()\n",
    "\n",
    "print('Positional encoding applied for our 3 timesteps')\n",
    "sns.heatmap(xp[:3], cmap='viridis', annot=False)\n",
    "\n",
    "# Display the plot\n",
    "plt.show()"
   ]
  },
  {
   "cell_type": "code",
   "execution_count": 16,
   "id": "12ffcc24-16c2-4018-9ba0-3741ca16ce8c",
   "metadata": {},
   "outputs": [],
   "source": [
    "class BasicTransformerNetwork(torch.nn.Module):\n",
    "    \n",
    "    def __init__(self, seq_len, pred_len, enc_layer_dropout, pos_enc_dropout):\n",
    "        # call the constructor of the base class\n",
    "        super().__init__()\n",
    "        self.model_type = 'Transformer'\n",
    "        self.seq_len = seq_len\n",
    "        self.pred_len = pred_len\n",
    "        self.num_features = num_features\n",
    "\n",
    "        # I don't think the embedding size should be this big. We will see.\n",
    "        self.embedding_size = 128 #The features are converted to 128 embeddings\n",
    "        self.num_layers = num_layers\n",
    "        self.pos_encoder = PositionalEncoding(self.embedding_size, pos_enc_dropout, 10000)\n",
    "        \n",
    "        # dim_feedforward = 4 * d_model\n",
    "        # layer_norm_eps: A very small number (epsilon) added to the denominator during the Layer Normalization calculation.\n",
    "        self.encLayer = torch.nn.TransformerEncoderLayer(d_model=self.embedding_size, nhead=8, \n",
    "                                                 dim_feedforward=256, dropout=enc_layer_dropout, activation=\"relu\", \n",
    "                                                 layer_norm_eps=1e-05, batch_first=True)\n",
    "        \n",
    "        self.transformerEnc = torch.nn.TransformerEncoder(self.encLayer, num_layers=self.num_layers)\n",
    "\n",
    "        self.input_fc = torch.nn.Linear(self.num_features, self.embedding_size)\n",
    "        \n",
    "        self.prediction_head = torch.nn.Linear(self.embedding_size, self.pred_len)\n",
    "\n",
    "        # Create causal mask\n",
    "        self.register_buffer('causal_mask', self._generate_causal_mask(seq_len))\n",
    "\n",
    "\n",
    "    def _generate_causal_mask(self, seq_len):\n",
    "        \"\"\"\n",
    "        Generate causal mask for transformer encoder.\n",
    "        Returns upper triangular matrix with -inf in upper triangle (excluding diagonal)\n",
    "        \"\"\"\n",
    "        mask = torch.triu(torch.full((seq_len, seq_len), float('-inf')), diagonal=1)\n",
    "        return mask\n",
    "\n",
    "    \n",
    "    def forward(self, x):\n",
    "        x = self.input_fc(x) * np.sqrt(self.embedding_size)\n",
    "        x = self.pos_encoder(x)\n",
    "        out = self.transformerEnc(x, mask=self.causal_mask)\n",
    "        last_embedding = out[:, -1, :]\n",
    "        prediction = self.prediction_head(last_embedding)\n",
    "        prediction = prediction.squeeze(-1)\n",
    "        return prediction\n",
    "# Note that the gradients are stored inside the FC layer objects\n",
    "# For each training example we need to get rid of these gradients"
   ]
  },
  {
   "cell_type": "code",
   "execution_count": 17,
   "id": "fff1f893-e7dd-4241-a73e-9f333db3cbf1",
   "metadata": {},
   "outputs": [],
   "source": [
    "model = BasicTransformerNetwork(3, 1, 0.1, 0.1)"
   ]
  },
  {
   "cell_type": "code",
   "execution_count": 18,
   "id": "3366fc28-7301-4361-9dac-2c7211ed7a8c",
   "metadata": {},
   "outputs": [
    {
     "data": {
      "text/plain": [
       "tensor([[[0.3745, 0.9507, 0.7320, 0.5987, 0.1560, 0.1560, 0.0581, 0.8662,\n",
       "          0.6011, 0.7081, 0.0206, 0.9699, 0.8324, 0.2123],\n",
       "         [0.1818, 0.1834, 0.3042, 0.5248, 0.4319, 0.2912, 0.6119, 0.1395,\n",
       "          0.2921, 0.3664, 0.4561, 0.7852, 0.1997, 0.5142],\n",
       "         [0.5924, 0.0465, 0.6075, 0.1705, 0.0651, 0.9489, 0.9656, 0.8084,\n",
       "          0.3046, 0.0977, 0.6842, 0.4402, 0.1220, 0.4952]],\n",
       "\n",
       "        [[0.0344, 0.9093, 0.2588, 0.6625, 0.3117, 0.5201, 0.5467, 0.1849,\n",
       "          0.9696, 0.7751, 0.9395, 0.8948, 0.5979, 0.9219],\n",
       "         [0.0885, 0.1960, 0.0452, 0.3253, 0.3887, 0.2713, 0.8287, 0.3568,\n",
       "          0.2809, 0.5427, 0.1409, 0.8022, 0.0746, 0.9869],\n",
       "         [0.7722, 0.1987, 0.0055, 0.8155, 0.7069, 0.7290, 0.7713, 0.0740,\n",
       "          0.3585, 0.1159, 0.8631, 0.6233, 0.3309, 0.0636]],\n",
       "\n",
       "        [[0.3110, 0.3252, 0.7296, 0.6376, 0.8872, 0.4722, 0.1196, 0.7132,\n",
       "          0.7608, 0.5613, 0.7710, 0.4938, 0.5227, 0.4275],\n",
       "         [0.0254, 0.1079, 0.0314, 0.6364, 0.3144, 0.5086, 0.9076, 0.2493,\n",
       "          0.4104, 0.7556, 0.2288, 0.0770, 0.2898, 0.1612],\n",
       "         [0.9297, 0.8081, 0.6334, 0.8715, 0.8037, 0.1866, 0.8926, 0.5393,\n",
       "          0.8074, 0.8961, 0.3180, 0.1101, 0.2279, 0.4271]],\n",
       "\n",
       "        [[0.8180, 0.8607, 0.0070, 0.5107, 0.4174, 0.2221, 0.1199, 0.3376,\n",
       "          0.9429, 0.3232, 0.5188, 0.7030, 0.3636, 0.9718],\n",
       "         [0.9624, 0.2518, 0.4972, 0.3009, 0.2848, 0.0369, 0.6096, 0.5027,\n",
       "          0.0515, 0.2786, 0.9083, 0.2396, 0.1449, 0.4895],\n",
       "         [0.9857, 0.2421, 0.6721, 0.7616, 0.2376, 0.7282, 0.3678, 0.6323,\n",
       "          0.6335, 0.5358, 0.0903, 0.8353, 0.3208, 0.1865]]])"
      ]
     },
     "execution_count": 18,
     "metadata": {},
     "output_type": "execute_result"
    }
   ],
   "source": [
    "#input 4 x 7, batch size 14\n",
    "x = torch.Tensor(np.random.random((4, 3, 14)))#change the last based on input\n",
    "x"
   ]
  },
  {
   "cell_type": "code",
   "execution_count": 19,
   "id": "e722744a-75d8-4212-a162-608d6026d522",
   "metadata": {},
   "outputs": [
    {
     "data": {
      "text/plain": [
       "tensor([-0.4938,  0.2425,  0.1233,  0.1759], grad_fn=<SqueezeBackward1>)"
      ]
     },
     "execution_count": 19,
     "metadata": {},
     "output_type": "execute_result"
    }
   ],
   "source": [
    "model.forward(x)"
   ]
  },
  {
   "cell_type": "code",
   "execution_count": 20,
   "id": "a23f1bed-e67c-41d5-a9e4-b30eb2d82549",
   "metadata": {},
   "outputs": [
    {
     "name": "stdout",
     "output_type": "stream",
     "text": [
      "2.8.0+cu128\n"
     ]
    }
   ],
   "source": [
    "print(torch.__version__)"
   ]
  },
  {
   "cell_type": "code",
   "execution_count": 21,
   "id": "3cc167aa-0ca3-4305-95e3-57af6511af9b",
   "metadata": {},
   "outputs": [],
   "source": [
    "learning_rate = 0.0012545904902955352\n",
    "pos_enc_dropout = 0.11787907740395862\n",
    "enc_layer_dropout = 0.3069555935064027\n",
    "weight_decay = 0.00040808881865365666\n",
    "\n",
    "model = BasicTransformerNetwork(seq_len, pred_len, pos_enc_dropout, enc_layer_dropout)\n",
    "model = model.to(device)\n",
    "loss = torch.nn.MSELoss()\n",
    "optimizer = torch.optim.Adam(model.parameters(), lr = learning_rate)"
   ]
  },
  {
   "cell_type": "code",
   "execution_count": 22,
   "id": "1e926293-3bf1-4122-b201-0e8465d686f8",
   "metadata": {},
   "outputs": [
    {
     "name": "stdout",
     "output_type": "stream",
     "text": [
      "Total number of parameters: 267009\n"
     ]
    }
   ],
   "source": [
    "total_params = sum(p.numel() for p in model.parameters())\n",
    "print(f\"Total number of parameters: {total_params}\")"
   ]
  },
  {
   "cell_type": "code",
   "execution_count": 23,
   "id": "517ad9d3-d10e-458b-be0c-fb42c3155c97",
   "metadata": {},
   "outputs": [
    {
     "name": "stdout",
     "output_type": "stream",
     "text": [
      "features shape:  torch.Size([128, 24, 14])\n",
      "labels shape:  torch.Size([128, 1])\n"
     ]
    }
   ],
   "source": [
    "for i, (f,l) in enumerate(train_loader):\n",
    "    print('features shape: ', f.shape)\n",
    "    print('labels shape: ', l.shape)\n",
    "    break"
   ]
  },
  {
   "cell_type": "code",
   "execution_count": 24,
   "id": "ac243954-3e1d-410c-837c-92f445dac6dd",
   "metadata": {},
   "outputs": [],
   "source": [
    "# define metrics\n",
    "import numpy as np\n",
    "import matplotlib.pyplot as plt\n",
    "epsilon = np.finfo(float).eps\n",
    "\n",
    "def wape_function(y, y_pred):\n",
    "    \"\"\"Weighted Average Percentage Error metric in the interval [0; 100]\"\"\"\n",
    "    y = np.array(y)\n",
    "    y_pred = np.array(y_pred)\n",
    "    nominator = np.sum(np.abs(np.subtract(y, y_pred)))\n",
    "    denominator = np.add(np.sum(np.abs(y)), epsilon)\n",
    "    wape = np.divide(nominator, denominator) * 100.0\n",
    "    return wape\n",
    "\n",
    "def nse_function(y, y_pred):\n",
    "    y = np.array(y)\n",
    "    y_pred = np.array(y_pred)\n",
    "    return (1-(np.sum((y_pred-y)**2)/np.sum((y-np.mean(y))**2)))\n",
    "\n",
    "\n",
    "def evaluate_model(model, data_loader, plot=False):\n",
    "    # following line prepares the model for evaluation mode. It disables dropout and batch normalization if they have \n",
    "    # are part of the model. For our simple model, it's not necessary. Still, we're going to use it.\n",
    "\n",
    "    model.eval()\n",
    "    all_outputs = torch.empty(0, pred_len)\n",
    "    all_labels = torch.empty(0, pred_len)\n",
    "    for inputs, labels in data_loader:\n",
    "        inputs = inputs.to(device)\n",
    "        with torch.no_grad():\n",
    "            outputs = model(inputs).detach().cpu().unsqueeze(1)\n",
    "        all_outputs = torch.vstack((all_outputs, outputs))\n",
    "        all_labels = torch.vstack((all_labels, labels))\n",
    "   \n",
    "    avg_val_loss = loss(all_outputs, all_labels)\n",
    "    nse = nse_function(all_labels.numpy(), all_outputs.numpy())\n",
    "    wape = wape_function(all_labels.numpy(), all_outputs.numpy())\n",
    "        \n",
    "    print(f'NSE : {nse}', end=' ')\n",
    "    print(f'WAPE : {wape}', end=' ')\n",
    "    print(f'Validation Loss: {avg_val_loss}')\n",
    "    \n",
    "    model.train()\n",
    "\n",
    "    if plot:\n",
    "        plt.figure(figsize=(16, 6))\n",
    "        plt.plot(np.array(all_labels.cpu()[:10000]), color='green', label='observations')\n",
    "        plt.plot(np.array(all_outputs.cpu()[:100000]), color='red', linestyle='-', label='predictions')\n",
    "        metrics_text = f\"NSE: {nse:.3f}\\nWAPE: {wape:.3f}\" \n",
    "        plt.text(0.28, 0.97, metrics_text, transform=plt.gca().transAxes, \n",
    "        fontsize=12, verticalalignment='top', bbox=dict(boxstyle='round', facecolor='wheat', alpha=0.5))\n",
    "        plt.legend()\n",
    "        plt.show()\n",
    "    \n",
    "    return avg_val_loss\n"
   ]
  },
  {
   "cell_type": "code",
   "execution_count": 25,
   "id": "87d55c41-98e9-416f-b539-a1b1604ad432",
   "metadata": {},
   "outputs": [
    {
     "name": "stdout",
     "output_type": "stream",
     "text": [
      "Epoch 1: Traning Loss: 0.04035096756912918 NSE : 0.5876337289810181 WAPE : 134.4716416289682 Validation Loss: 0.009545758366584778\n",
      "Epoch 2: Traning Loss: 0.04385882581128827 NSE : 0.5143997073173523 WAPE : 79.96018524688479 Validation Loss: 0.011241032741963863\n",
      "Epoch 3: Traning Loss: 0.03916418281692203 NSE : 0.6304333806037903 WAPE : 133.48005498668522 Validation Loss: 0.008555001579225063\n",
      "Epoch 4: Traning Loss: 0.03760982953449445 NSE : 0.6210096776485443 WAPE : 101.36425223784455 Validation Loss: 0.008773147128522396\n",
      "Epoch 5: Traning Loss: 0.03543777589124978 NSE : 0.6340192258358002 WAPE : 110.96430307831653 Validation Loss: 0.00847199372947216\n",
      "Epoch 6: Traning Loss: 0.03749447943182245 NSE : 0.5883794724941254 WAPE : 120.6417869191908 Validation Loss: 0.00952849630266428\n",
      "Epoch 7: Traning Loss: 0.039931440044662425 NSE : 0.5901012122631073 WAPE : 120.67204440396951 Validation Loss: 0.009488638490438461\n",
      "Epoch 8: Traning Loss: 0.037227887299956804 NSE : 0.49908411502838135 WAPE : 145.01284585711852 Validation Loss: 0.011595568619668484\n",
      "Early stopping!\n"
     ]
    }
   ],
   "source": [
    "num_epochs = 200\n",
    "best_val_loss = float('inf')\n",
    "patience = 3\n",
    "\n",
    "for epoch in range(num_epochs):\n",
    "    epoch_loss = []\n",
    "    for batch_idx, (inputs, labels) in enumerate(train_loader):\n",
    "        inputs = inputs.to(device)\n",
    "        labels = labels.to(device)\n",
    "        outputs = model(inputs).unsqueeze(1)\n",
    "        loss_val = loss(outputs, labels)\n",
    "\n",
    "        # calculate gradients for back propagation\n",
    "        loss_val.backward()\n",
    "\n",
    "        # update the weights based on the gradients\n",
    "        optimizer.step()\n",
    "\n",
    "        # reset the gradients, avoid gradient accumulation\n",
    "        optimizer.zero_grad()\n",
    "        epoch_loss.append(loss_val.item())\n",
    "\n",
    "    avg_train_loss = sum(epoch_loss)/len(epoch_loss)\n",
    "    print(f'Epoch {epoch+1}: Traning Loss: {avg_train_loss}', end=' ')\n",
    "    avg_val_loss = evaluate_model(model, val_loader)\n",
    "\n",
    "    # Check for improvement\n",
    "    if avg_val_loss < best_val_loss:\n",
    "        best_val_loss = avg_val_loss\n",
    "        epochs_no_improve = 0\n",
    "        # Save the best model\n",
    "        torch.save(model.state_dict(), 'best_model.pth')\n",
    "    else:\n",
    "        epochs_no_improve += 1\n",
    "        if epochs_no_improve == patience:\n",
    "            print('Early stopping!')\n",
    "            # Load the best model before stopping\n",
    "            model.load_state_dict(torch.load('best_model.pth'))\n",
    "            break"
   ]
  },
  {
   "cell_type": "code",
   "execution_count": 148,
   "id": "73050bfc-fb6f-41f8-9046-f3b04037ea20",
   "metadata": {},
   "outputs": [
    {
     "name": "stdout",
     "output_type": "stream",
     "text": [
      "NSE : 0.769414484500885 WAPE : 65.871329083031 RMSE : 0.12175805866718292 MAE : 0.033281367272138596 Validation Loss: 0.014825025573372841\n"
     ]
    },
    {
     "data": {
      "image/png": "[encoded data removed]",
      "text/plain": [
       "<Figure size 1600x600 with 1 Axes>"
      ]
     },
     "metadata": {},
     "output_type": "display_data"
    },
    {
     "data": {
      "text/plain": [
       "tensor(0.0148)"
      ]
     },
     "execution_count": 148,
     "metadata": {},
     "output_type": "execute_result"
    }
   ],
   "source": [
    "evaluate_model(model, test_loader, plot=True)"
   ]
  }
 ],
 "metadata": {
  "kernelspec": {
   "display_name": "Python 3 (ipykernel)",
   "language": "python",
   "name": "python3"
  },
  "language_info": {
   "codemirror_mode": {
    "name": "ipython",
    "version": 3
   },
   "file_extension": ".py",
   "mimetype": "text/x-python",
   "name": "python",
   "nbconvert_exporter": "python",
   "pygments_lexer": "ipython3",
   "version": "3.11.9"
  }
 },
 "nbformat": 4,
 "nbformat_minor": 5
}
